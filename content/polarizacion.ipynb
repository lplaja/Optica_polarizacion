{
 "cells": [
  {
   "cell_type": "code",
   "execution_count": 1,
   "id": "338ba99f",
   "metadata": {},
   "outputs": [
    {
     "ename": "ModuleNotFoundError",
     "evalue": "No module named 'micropip'",
     "output_type": "error",
     "traceback": [
      "\u001b[0;31m---------------------------------------------------------------------------\u001b[0m",
      "\u001b[0;31mModuleNotFoundError\u001b[0m                       Traceback (most recent call last)",
      "Cell \u001b[0;32mIn[1], line 1\u001b[0m\n\u001b[0;32m----> 1\u001b[0m \u001b[38;5;28;01mimport\u001b[39;00m \u001b[38;5;21;01mmicropip\u001b[39;00m\n\u001b[1;32m      2\u001b[0m \u001b[38;5;28;01mawait\u001b[39;00m micropip\u001b[38;5;241m.\u001b[39minstall(\u001b[38;5;124m\"\u001b[39m\u001b[38;5;124mmatplotlib\u001b[39m\u001b[38;5;124m\"\u001b[39m)\n\u001b[1;32m      3\u001b[0m \u001b[38;5;28;01mawait\u001b[39;00m micropip\u001b[38;5;241m.\u001b[39minstall(\u001b[38;5;124m\"\u001b[39m\u001b[38;5;124mscipy\u001b[39m\u001b[38;5;124m\"\u001b[39m)\n",
      "\u001b[0;31mModuleNotFoundError\u001b[0m: No module named 'micropip'"
     ]
    }
   ],
   "source": [
    "import micropip\n",
    "await micropip.install(\"matplotlib\")\n",
    "await micropip.install(\"scipy\")\n",
    "await micropip.install(\"ipywidgets\")\n",
    "\n",
    "\n",
    "import numpy as np\n",
    "import matplotlib.pyplot as plt\n",
    "import matplotlib.animation as animation\n",
    "#import ipywidgets as widgets\n",
    "from matplotlib.widgets import Slider\n",
    "\n",
    "from ipywidgets import interact, FloatSlider\n",
    "from matplotlib import rcParams\n",
    "\n",
    "rcParams[\"figure.figsize\"] = (5,5)\n",
    "\n",
    "omega = 2 * np.pi\n",
    "\n",
    "def field_components(t, A_perp, A_par, phi_perp, phi_par):\n",
    "    Ex = A_perp * np.cos(omega * t + phi_perp*np.pi)\n",
    "    Ey = A_par * np.cos(omega * t + phi_par*np.pi)\n",
    "    return Ex, Ey\n",
    "\n",
    "t = np.linspace(0, 2*np.pi, 300)\n",
    "\n",
    "def plot_frame(frame=0, A_perp=1.0, A_par=1.0, phi_perp=0.0, phi_par=0.0):\n",
    "    x, y = field_components(t, A_perp, A_par, phi_perp, phi_par)\n",
    "    \n",
    "    plt.clf()\n",
    "    plt.plot(x[max(0, frame-100):frame+1], y[max(0, frame-100):frame+1], 'r-')\n",
    "    plt.quiver(0, 0, x[frame], y[frame], angles='xy', scale_units='xy', scale=1, color='b')\n",
    "    plt.xlim(-1.5, 1.5)\n",
    "    plt.gca().invert_xaxis()\n",
    "    plt.ylim(-1.5, 1.5)\n",
    "    plt.gca().set_aspect('equal')\n",
    "    plt.grid(True)\n",
    "    plt.xlabel('Perpendicular')\n",
    "    plt.ylabel('Paralela')\n",
    "    plt.title('Polarización de la luz')\n",
    "    plt.show()\n",
    "\n",
    "interact(\n",
    "    plot_frame,\n",
    "    frame=(0, 299, 1),\n",
    "    A_perp=FloatSlider(min=0, max=1, step=0.01, value=1.0),\n",
    "    A_par=FloatSlider(min=0, max=1, step=0.01, value=1.0),\n",
    "    phi_perp=FloatSlider(min=-1, max=1, step=0.01, value=0.0),\n",
    "    phi_par=FloatSlider(min=-1, max=1, step=0.01, value=0.0)\n",
    ")"
   ]
  },
  {
   "cell_type": "code",
   "execution_count": null,
   "id": "3024df78",
   "metadata": {},
   "outputs": [],
   "source": []
  }
 ],
 "metadata": {
  "kernelspec": {
   "display_name": "optica1",
   "language": "python",
   "name": "python3"
  },
  "language_info": {
   "codemirror_mode": {
    "name": "ipython",
    "version": 3
   },
   "file_extension": ".py",
   "mimetype": "text/x-python",
   "name": "python",
   "nbconvert_exporter": "python",
   "pygments_lexer": "ipython3",
   "version": "3.12.3"
  }
 },
 "nbformat": 4,
 "nbformat_minor": 5
}
